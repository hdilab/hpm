{
 "cells": [
  {
   "cell_type": "code",
   "execution_count": 22,
   "metadata": {},
   "outputs": [],
   "source": [
    "with open('../data/1342.txt','r') as f:\n",
    "    text = f.read()"
   ]
  },
  {
   "cell_type": "code",
   "execution_count": 23,
   "metadata": {},
   "outputs": [],
   "source": [
    "textLength = len(text)"
   ]
  },
  {
   "cell_type": "code",
   "execution_count": 24,
   "metadata": {},
   "outputs": [],
   "source": [
    "mediumLength = textLength//10\n",
    "shortLength = mediumLength//10\n"
   ]
  },
  {
   "cell_type": "code",
   "execution_count": 25,
   "metadata": {},
   "outputs": [
    {
     "data": {
      "text/plain": [
       "7041"
      ]
     },
     "execution_count": 25,
     "metadata": {},
     "output_type": "execute_result"
    }
   ],
   "source": [
    "shortLength"
   ]
  },
  {
   "cell_type": "code",
   "execution_count": 26,
   "metadata": {},
   "outputs": [],
   "source": [
    "mediumTXT = text[:mediumLength]\n",
    "shortTXT = text[:shortLength]"
   ]
  },
  {
   "cell_type": "code",
   "execution_count": 27,
   "metadata": {},
   "outputs": [],
   "source": [
    "with open(\"../data/long.txt\", \"w+\") as f: \n",
    "    f.write(text)\n",
    "\n",
    "with open(\"../data/medium.txt\", \"w+\") as f: \n",
    "    f.write(mediumTXT)\n",
    "    \n",
    "with open(\"../data/short.txt\", \"w+\") as f: \n",
    "    f.write(shortTXT)\n",
    "\n",
    "with open(\"../data/10k.txt\", \"w+\") as f: \n",
    "    f.write(text[:10000])\n",
    "\n",
    "with open(\"../data/1k.txt\", \"w+\") as f: \n",
    "    f.write(text[:1000])\n",
    "    \n",
    "with open(\"../data/100.txt\", \"w+\") as f: \n",
    "    f.write(text[:100])\n",
    "\n",
    "\n",
    "\n",
    "\n"
   ]
  },
  {
   "cell_type": "code",
   "execution_count": 28,
   "metadata": {},
   "outputs": [
    {
     "name": "stdout",
     "output_type": "stream",
     "text": [
      "total 3024\r\n",
      "drwxr-xr-x  13 intuinno  staff     416 May  9 17:51 \u001b[1m\u001b[36m.\u001b[m\u001b[m\r\n",
      "drwxr-xr-x  36 intuinno  staff    1152 May  9 17:26 \u001b[1m\u001b[36m..\u001b[m\u001b[m\r\n",
      "-rw-r--r--@  1 intuinno  staff    6148 May  2 12:49 .DS_Store\r\n",
      "-rw-r--r--   1 intuinno  staff     100 May  9 17:51 100.txt\r\n",
      "-rw-r--r--   1 intuinno  staff   10000 May  9 17:51 10k.txt\r\n",
      "-rw-r--r--@  1 intuinno  staff  717602 Apr 24 17:46 1342.txt\r\n",
      "-rw-r--r--   1 intuinno  staff    1000 May  9 17:51 1k.txt\r\n",
      "-rw-r--r--   1 intuinno  staff  704175 May  9 17:51 long.txt\r\n",
      "-rw-r--r--   1 intuinno  staff   70417 May  9 17:51 medium.txt\r\n",
      "-rw-r--r--   1 intuinno  staff      72 Apr 29 16:56 nonoverlapping.txt\r\n",
      "-rw-r--r--   1 intuinno  staff    7041 May  9 17:51 short.txt\r\n",
      "-rw-r--r--@  1 intuinno  staff      82 Apr 29 14:46 shorter.txt\r\n",
      "-rw-r--r--   1 intuinno  staff      72 Apr 29 16:56 shortest.txt\r\n"
     ]
    }
   ],
   "source": [
    "!ls -al ../data"
   ]
  },
  {
   "cell_type": "code",
   "execution_count": null,
   "metadata": {},
   "outputs": [],
   "source": []
  }
 ],
 "metadata": {
  "kernelspec": {
   "display_name": "Python 3",
   "language": "python",
   "name": "python3"
  },
  "language_info": {
   "codemirror_mode": {
    "name": "ipython",
    "version": 3
   },
   "file_extension": ".py",
   "mimetype": "text/x-python",
   "name": "python",
   "nbconvert_exporter": "python",
   "pygments_lexer": "ipython3",
   "version": "3.7.6"
  }
 },
 "nbformat": 4,
 "nbformat_minor": 4
}
