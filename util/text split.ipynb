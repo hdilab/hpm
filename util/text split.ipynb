{
 "cells": [
  {
   "cell_type": "code",
   "execution_count": 2,
   "metadata": {},
   "outputs": [],
   "source": [
    "with open('../data/1342.txt','r') as f:\n",
    "    text = f.read()"
   ]
  },
  {
   "cell_type": "code",
   "execution_count": 3,
   "metadata": {},
   "outputs": [],
   "source": [
    "textLength = len(text)"
   ]
  },
  {
   "cell_type": "code",
   "execution_count": 9,
   "metadata": {},
   "outputs": [],
   "source": [
    "mediumLength = textLength//10\n",
    "shortLength = mediumLength//10"
   ]
  },
  {
   "cell_type": "code",
   "execution_count": 11,
   "metadata": {},
   "outputs": [],
   "source": [
    "mediumTXT = text[:mediumLength]\n",
    "shortTXT = text[:shortLength]"
   ]
  },
  {
   "cell_type": "code",
   "execution_count": 16,
   "metadata": {},
   "outputs": [],
   "source": [
    "with open(\"../data/long.txt\", \"w+\") as f: \n",
    "    f.write(text)\n",
    "\n",
    "with open(\"../data/medium.txt\", \"w+\") as f: \n",
    "    f.write(mediumTXT)\n",
    "    \n",
    "with open(\"../data/short.txt\", \"w+\") as f: \n",
    "    f.write(shortTXT)\n",
    "\n",
    "\n",
    "\n"
   ]
  },
  {
   "cell_type": "code",
   "execution_count": 17,
   "metadata": {},
   "outputs": [
    {
     "name": "stdout",
     "output_type": "stream",
     "text": [
      "total 2984\r\n",
      "drwxr-xr-x  10 intuinno  staff     320 May  9 13:33 \u001b[1m\u001b[36m.\u001b[m\u001b[m\r\n",
      "drwxr-xr-x  35 intuinno  staff    1120 May  9 13:27 \u001b[1m\u001b[36m..\u001b[m\u001b[m\r\n",
      "-rw-r--r--@  1 intuinno  staff    6148 May  2 12:49 .DS_Store\r\n",
      "-rw-r--r--@  1 intuinno  staff  717602 Apr 24 17:46 1342.txt\r\n",
      "-rw-r--r--   1 intuinno  staff  704175 May  9 13:35 long.txt\r\n",
      "-rw-r--r--   1 intuinno  staff   70417 May  9 13:35 medium.txt\r\n",
      "-rw-r--r--   1 intuinno  staff      72 Apr 29 16:56 nonoverlapping.txt\r\n",
      "-rw-r--r--   1 intuinno  staff    7041 May  9 13:35 short.txt\r\n",
      "-rw-r--r--   1 intuinno  staff      82 Apr 29 14:46 shorter.txt\r\n",
      "-rw-r--r--   1 intuinno  staff      72 Apr 29 16:56 shortest.txt\r\n"
     ]
    }
   ],
   "source": [
    "!ls -al ../data"
   ]
  },
  {
   "cell_type": "code",
   "execution_count": null,
   "metadata": {},
   "outputs": [],
   "source": []
  }
 ],
 "metadata": {
  "kernelspec": {
   "display_name": "Python 3",
   "language": "python",
   "name": "python3"
  },
  "language_info": {
   "codemirror_mode": {
    "name": "ipython",
    "version": 3
   },
   "file_extension": ".py",
   "mimetype": "text/x-python",
   "name": "python",
   "nbconvert_exporter": "python",
   "pygments_lexer": "ipython3",
   "version": "3.7.6"
  }
 },
 "nbformat": 4,
 "nbformat_minor": 4
}
