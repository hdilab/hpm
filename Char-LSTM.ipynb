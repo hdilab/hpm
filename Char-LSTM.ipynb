{
 "cells": [
  {
   "cell_type": "markdown",
   "metadata": {
    "colab_type": "text",
    "id": "view-in-github"
   },
   "source": [
    "<a href=\"https://colab.research.google.com/github/hdilab/hpm/blob/master/Char-LSTM.ipynb\" target=\"_parent\"><img src=\"https://colab.research.google.com/assets/colab-badge.svg\" alt=\"Open In Colab\"/></a>"
   ]
  },
  {
   "cell_type": "code",
   "execution_count": 19,
   "metadata": {
    "colab": {},
    "colab_type": "code",
    "id": "rR0MzkS3ewoT"
   },
   "outputs": [],
   "source": [
    "import numpy as np\n",
    "import torch\n",
    "from torch import nn\n",
    "import torch.nn.functional as F\n",
    "import os\n",
    "Colab = False\n",
    "NumOnBits = 10\n",
    "NumBits = 512\n",
    "Seed = 42"
   ]
  },
  {
   "cell_type": "code",
   "execution_count": 20,
   "metadata": {
    "colab": {
     "base_uri": "https://localhost:8080/",
     "height": 125
    },
    "colab_type": "code",
    "id": "vawrva3tf9qd",
    "outputId": "0bdd8846-26f2-4302-9d6d-e9edef4b674b"
   },
   "outputs": [],
   "source": [
    "if Colab:\n",
    "    from google.colab import drive\n",
    "    drive.mount('/content/drive')\n",
    "    with open('/content/drive/My Drive/Colab/data/1342.txt','r') as f:\n",
    "        text = f.read()\n",
    "else:\n",
    "    with open('data/1342.txt','r') as f:\n",
    "        text = f.read()"
   ]
  },
  {
   "cell_type": "code",
   "execution_count": 21,
   "metadata": {
    "colab": {
     "base_uri": "https://localhost:8080/",
     "height": 54
    },
    "colab_type": "code",
    "id": "ZMwUVQ4aewoe",
    "outputId": "f17718fb-04ad-4cb1-b2bd-df7acbe54fac"
   },
   "outputs": [
    {
     "data": {
      "text/plain": [
       "'The Project Gutenberg EBook of Pride and Prejudice, by Jane Austen\\n\\nThis eBook is for the use of any'"
      ]
     },
     "execution_count": 21,
     "metadata": {},
     "output_type": "execute_result"
    }
   ],
   "source": [
    "text[:100]"
   ]
  },
  {
   "cell_type": "code",
   "execution_count": 22,
   "metadata": {
    "colab": {},
    "colab_type": "code",
    "id": "357wL-v5ewoj"
   },
   "outputs": [
    {
     "data": {
      "text/plain": [
       "array([ 84, 104, 101,  32,  80, 114, 111, 106, 101,  99, 116,  32,  71,\n",
       "       117, 116, 101, 110,  98, 101, 114, 103,  32,  69,  66, 111, 111,\n",
       "       107,  32, 111, 102,  32,  80, 114, 105, 100, 101,  32,  97, 110,\n",
       "       100,  32,  80, 114, 101, 106, 117, 100, 105,  99, 101,  44,  32,\n",
       "        98, 121,  32,  74,  97, 110, 101,  32,  65, 117, 115, 116, 101,\n",
       "       110,  10,  10,  84, 104, 105, 115,  32, 101,  66, 111, 111, 107,\n",
       "        32, 105, 115,  32, 102, 111, 114,  32, 116, 104, 101,  32, 117,\n",
       "       115, 101,  32, 111, 102,  32,  97, 110, 121])"
      ]
     },
     "execution_count": 22,
     "metadata": {},
     "output_type": "execute_result"
    }
   ],
   "source": [
    "asc_chars = [chr(i) for i in range(128)]\n",
    "chars = tuple(asc_chars)\n",
    "int2char = dict(enumerate(chars))\n",
    "char2int = {c:i for i, c in int2char.items()}\n",
    "\n",
    "encoded = np.array([char2int[ch] for ch in text])\n",
    "encoded[:100]"
   ]
  },
  {
   "cell_type": "code",
   "execution_count": 23,
   "metadata": {},
   "outputs": [],
   "source": [
    "\"\"\"\n",
    "SDR class\n",
    "Handles issues with SDR\n",
    "Given a char input, generate SDR\n",
    "\"\"\"\n",
    "\n",
    "import random\n",
    "\n",
    "\n",
    "class SDR(object):\n",
    "    \"\"\"\n",
    "      Class implementing the SDR.\n",
    "\n",
    "      :param input_list: (List) List for input_values.\n",
    "            For ASCII it will be [chr(0), chr(1), ... chr(127)]\n",
    "\n",
    "      :param numBits: (int) Number of bits for SDR. Default value ``512``\n",
    "\n",
    "      :param numOnBits: (int) Number of Active bits for SDR. Default value ``10``.\n",
    "            It is 2% sparcity for 512 bit\n",
    "\n",
    "      :param seed: (int) Seed for the random number generator. Default value ``42``.\n",
    "    \"\"\"\n",
    "\n",
    "    def __init__(self,\n",
    "                 input_list,\n",
    "                 numBits=512,\n",
    "                 numOnBits=10,\n",
    "                 seed=42,\n",
    "                 inputNoise=0.1):\n",
    "\n",
    "        random.seed(seed)\n",
    "        self.population = [i for i in range(numBits)]\n",
    "        self.numOnBits = numOnBits\n",
    "        self.inputNoise = inputNoise\n",
    "        self.sdr_dict = {i:random.sample(self.population, numOnBits) for i in input_list}\n",
    "\n",
    "\n",
    "    def getSDR(self, input):\n",
    "        return self.sdr_dict[input]\n",
    "\n",
    "\n",
    "    def getNoisySDR(self, input):\n",
    "        inputSDR = self.sdr_dict[input]\n",
    "        inputSDR = [i for i in inputSDR if random.random() > self.inputNoise]\n",
    "        noise = random.sample(self.population, int(self.numOnBits * self.inputNoise))\n",
    "        return inputSDR + noise\n",
    "\n",
    "\n",
    "\n",
    "    def getInput(self, sdr):\n",
    "        \"\"\"\n",
    "        Need to implement the function which returns the corresponding input from SDR\n",
    "        This requires a probabilistic approach. Count the number of overlapping bit and nonoverlapping field.\n",
    "        \"\"\"\n",
    "        return 0\n",
    "\n",
    "    def getCollisionProb(self, n, a, s, theta):\n",
    "        \"\"\"\n",
    "        Calculating the probability for the cases where more than theta synapses are activated\n",
    "        for different cell activation pattern\n",
    "        :param n: Number of cells\n",
    "        :param a: Number of active cells\n",
    "        :param s: Number of synapses\n",
    "        :param theta: Threshold for the dendritic activation\n",
    "        :return: The probability where dendritic activation for the different cell activation pattern\n",
    "        \"\"\"\n",
    "        numerator = 0\n",
    "        for b in range(theta, s+1):\n",
    "            numerator += combinatorial(s, b) * combinatorial(n-s, a-b)\n",
    "\n",
    "        denominator = combinatorial(n, a)\n",
    "\n",
    "        return numerator*1.0/denominator\n",
    "\n",
    "    def getRandomSDR(self):\n",
    "        noise = random.sample(self.population, numOnBits)\n",
    "        return noise\n",
    "\n",
    "\n",
    "def combinatorial(a,b):\n",
    "    return factorial(a)*1.0/factorial(a-b)/factorial(a)\n",
    "\n",
    "def factorial(a):\n",
    "    if a == 1:\n",
    "        return 1\n",
    "    else:\n",
    "        return a*factorial(a-1)\n",
    "\n"
   ]
  },
  {
   "cell_type": "code",
   "execution_count": 24,
   "metadata": {},
   "outputs": [],
   "source": [
    "char_sdr = SDR(asc_chars,\n",
    "                numBits=NumBits,\n",
    "                numOnBits=NumOnBits,\n",
    "                seed=Seed,\n",
    "                inputNoise=0.1)"
   ]
  },
  {
   "cell_type": "code",
   "execution_count": 26,
   "metadata": {
    "colab": {},
    "colab_type": "code",
    "id": "CDQ9Mcvjewon"
   },
   "outputs": [],
   "source": [
    "def one_hot_encoder(arr, n_labels):\n",
    "    one_hot = np.zeros((np.multiply(*arr.shape), n_labels), dtype=np.float32)\n",
    "    one_hot[np.arange(one_hot.shape[0]), arr.flatten()] = 1. \n",
    "    one_hot = one_hot.reshape((*arr.shape, n_labels))\n",
    "    return one_hot\n",
    "\n",
    "def multi_hot_encoder(arr, n_labels):\n",
    "    multi_hot = np.zeros((arr.shape[0], arr.shape[1], n_labels), dtype=np.float32)\n",
    "    for i in range(arr.shape[0]):\n",
    "        for j in range(arr.shape[1]):\n",
    "            sdr = char_sdr.getNoisySDR(int2char[arr[i][j]])\n",
    "            multi_hot[i][j][np.array(sdr)] = 1  \n",
    "    return multi_hot"
   ]
  },
  {
   "cell_type": "code",
   "execution_count": 29,
   "metadata": {
    "colab": {},
    "colab_type": "code",
    "id": "sFxKuXihewor"
   },
   "outputs": [],
   "source": [
    "test_seq = np.array([[3,5,1]])\n",
    "one_hot=one_hot_encoder(test_seq, 8)\n",
    "multi_hot = multi_hot_encoder(test_seq, 512)"
   ]
  },
  {
   "cell_type": "code",
   "execution_count": 32,
   "metadata": {
    "colab": {},
    "colab_type": "code",
    "id": "sFxKuXihewor"
   },
   "outputs": [
    {
     "name": "stdout",
     "output_type": "stream",
     "text": [
      "(1, 3)\n"
     ]
    }
   ],
   "source": [
    "print (test_seq.shape)"
   ]
  },
  {
   "cell_type": "code",
   "execution_count": 33,
   "metadata": {
    "colab": {
     "base_uri": "https://localhost:8080/",
     "height": 34
    },
    "colab_type": "code",
    "id": "CGG5XMZQewov",
    "outputId": "f82b60dc-a223-4dbc-d757-74749f69ae78"
   },
   "outputs": [
    {
     "name": "stdout",
     "output_type": "stream",
     "text": [
      "[[[0. 0. 0. 1. 0. 0. 0. 0.]\n",
      "  [0. 0. 0. 0. 0. 1. 0. 0.]\n",
      "  [0. 1. 0. 0. 0. 0. 0. 0.]]]\n"
     ]
    }
   ],
   "source": [
    "print(one_hot)"
   ]
  },
  {
   "cell_type": "code",
   "execution_count": 35,
   "metadata": {
    "colab": {
     "base_uri": "https://localhost:8080/",
     "height": 34
    },
    "colab_type": "code",
    "id": "B4yc-2i9ewoz",
    "outputId": "9c436133-58e5-4d23-df2e-a18ce7649484"
   },
   "outputs": [
    {
     "name": "stdout",
     "output_type": "stream",
     "text": [
      "(1, 3, 512)\n"
     ]
    }
   ],
   "source": [
    "print(multi_hot.shape)"
   ]
  },
  {
   "cell_type": "code",
   "execution_count": 60,
   "metadata": {
    "colab": {
     "base_uri": "https://localhost:8080/",
     "height": 70
    },
    "colab_type": "code",
    "id": "8zmNspPrewo5",
    "outputId": "81be1056-104f-49a6-cbef-71e7c27f6340"
   },
   "outputs": [
    {
     "name": "stdout",
     "output_type": "stream",
     "text": [
      "[30, 95, 223, 238, 27, 203, 429, 225, 459, 284, 56]\n",
      "[[ 27]\n",
      " [ 30]\n",
      " [ 38]\n",
      " [ 95]\n",
      " [203]\n",
      " [223]\n",
      " [225]\n",
      " [238]\n",
      " [284]\n",
      " [429]\n",
      " [459]]\n"
     ]
    }
   ],
   "source": [
    "sdr = char_sdr.getNoisySDR(int2char[1])\n",
    "a = np.zeros((3,512))\n",
    "a[1][np.array(sdr)] = 1\n",
    "print (sdr)\n",
    "print(np.argwhere(multi_hot[0,2]>0))"
   ]
  },
  {
   "cell_type": "code",
   "execution_count": 61,
   "metadata": {
    "colab": {},
    "colab_type": "code",
    "id": "EuoOhevSewo9"
   },
   "outputs": [],
   "source": [
    "def get_batches(arr, batch_size, seq_length):\n",
    "    '''Create a generator that returns batches of size\n",
    "       batch_size x seq_length from arr\n",
    "       \n",
    "       Arguments\n",
    "       ---------\n",
    "       arr: Array you want to make batches from\n",
    "       batch_size: Batch size, the number of sequences per batch\n",
    "       seq_length: Number of encoded chars in a sequence\n",
    "    '''\n",
    "    \n",
    "    batch_size_total = batch_size * seq_length\n",
    "    n_batches = len(arr) // batch_size_total\n",
    "    \n",
    "    arr = arr[:n_batches * batch_size_total]\n",
    "    arr = arr.reshape((batch_size, -1))\n",
    "    \n",
    "    for n in range(0, arr.shape[1], seq_length):\n",
    "        x = arr[:, n:n+seq_length]\n",
    "        y = np.zeros_like(x) \n",
    "        try:\n",
    "            y[:, :-1], y[:, -1] = x[:,1:], arr[:, n+seq_length]\n",
    "        except IndexError:\n",
    "            y[:, :-1], y[:, -1] = x[:,1:], arr[:,0] \n",
    "        yield x, y \n",
    "        "
   ]
  },
  {
   "cell_type": "code",
   "execution_count": 62,
   "metadata": {
    "colab": {},
    "colab_type": "code",
    "id": "oeUK4w9ZewpB"
   },
   "outputs": [],
   "source": [
    "batches = get_batches(encoded, 8, 50)\n",
    "x, y = next(batches)"
   ]
  },
  {
   "cell_type": "code",
   "execution_count": 63,
   "metadata": {
    "colab": {
     "base_uri": "https://localhost:8080/",
     "height": 34
    },
    "colab_type": "code",
    "id": "h42OA4H6ewpG",
    "outputId": "00fc1014-24ba-4e57-8abb-d0d19e0ea8ce"
   },
   "outputs": [
    {
     "name": "stdout",
     "output_type": "stream",
     "text": [
      "No GPU available, training on CPU; consider making n_epochs very small.\n"
     ]
    }
   ],
   "source": [
    "# check if GPU is available\n",
    "train_on_gpu = torch.cuda.is_available()\n",
    "if(train_on_gpu):\n",
    "    print('Training on GPU!')\n",
    "else: \n",
    "    print('No GPU available, training on CPU; consider making n_epochs very small.')"
   ]
  },
  {
   "cell_type": "code",
   "execution_count": 64,
   "metadata": {
    "colab": {},
    "colab_type": "code",
    "id": "wjxsXcfTewpM"
   },
   "outputs": [],
   "source": [
    "class CharRNN(nn.Module):\n",
    "    def __init__(self, tokens, n_hidden=612, n_layers=4, drop_prob=0.5, lr=0.001):\n",
    "        super().__init__()\n",
    "        self.drop_prob = drop_prob\n",
    "        self.n_layers = n_layers\n",
    "        self.n_hidden = n_hidden\n",
    "        self.lr = lr\n",
    "        \n",
    "        self.chars = tokens\n",
    "        self.int2char = dict(enumerate(self.chars))\n",
    "        self.char2int = {ch:ii for ii, ch in self.int2char.items()}\n",
    "        \n",
    "        self.lstm = nn.LSTM(NumBits, n_hidden, n_layers, \n",
    "                            dropout=drop_prob, batch_first=True)\n",
    "        self.dropout = nn.Dropout(drop_prob)\n",
    "        \n",
    "        self.fc = nn.Linear(n_hidden, NumBits)\n",
    "        \n",
    "    def forward(self, x, hidden):\n",
    "        r_output, hidden = self.lstm(x,hidden)\n",
    "        \n",
    "        out = self.dropout(r_output)\n",
    "        \n",
    "        out = out.contiguous().view(-1, self.n_hidden)\n",
    "        \n",
    "        out = self.fc(out)\n",
    "        \n",
    "        return out, hidden\n",
    "    \n",
    "    def init_hidden(self, batch_size):\n",
    "        weight = next(self.parameters()).data\n",
    "        \n",
    "        if (train_on_gpu):\n",
    "            hidden = (weight.new(self.n_layers, batch_size, self.n_hidden).zero_().cuda(),\n",
    "                  weight.new(self.n_layers, batch_size, self.n_hidden).zero_().cuda())\n",
    "        else:\n",
    "            hidden = (weight.new(self.n_layers, batch_size, self.n_hidden).zero_(),\n",
    "                      weight.new(self.n_layers, batch_size, self.n_hidden).zero_())\n",
    "        \n",
    "        return hidden"
   ]
  },
  {
   "cell_type": "code",
   "execution_count": 71,
   "metadata": {
    "colab": {},
    "colab_type": "code",
    "id": "Flrh6R7-ewpR"
   },
   "outputs": [],
   "source": [
    "def train(net, data, epochs=10, batch_size=10, seq_length=50, lr=0.001, clip=5, val_frac=0.1, print_every=10):\n",
    "    ''' Training a network \n",
    "    \n",
    "        Arguments\n",
    "        ---------\n",
    "        \n",
    "        net: CharRNN network\n",
    "        data: text data to train the network\n",
    "        epochs: Number of epochs to train\n",
    "        batch_size: Number of mini-sequences per mini-batch, aka batch size\n",
    "        seq_length: Number of character steps per mini-batch\n",
    "        lr: learning rate\n",
    "        clip: gradient clipping\n",
    "        val_frac: Fraction of data to hold out for validation\n",
    "        print_every: Number of steps for printing training and validation loss\n",
    "    \n",
    "    '''\n",
    "    net.train()\n",
    "    \n",
    "    opt = torch.optim.Adam(net.parameters(), lr=lr)\n",
    "    criterion = nn.BCEWithLogitsLoss()\n",
    "    \n",
    "    # create training and validation data\n",
    "    val_idx = int(len(data)*(1-val_frac))\n",
    "    data, val_data = data[:val_idx], data[val_idx:]\n",
    "    \n",
    "    if(train_on_gpu):\n",
    "        net.cuda()\n",
    "    \n",
    "    counter = 0\n",
    "    n_chars = NumBits\n",
    "    for e in range(epochs):\n",
    "        # initialize hidden state\n",
    "        h = net.init_hidden(batch_size)\n",
    "        \n",
    "        for x, y in get_batches(data, batch_size, seq_length):\n",
    "            counter += 1\n",
    "            \n",
    "            # One-hot encode our data and make them Torch tensors\n",
    "            x = multi_hot_encoder(x, n_chars)\n",
    "            y = multi_hot_encoder(y, n_chars)\n",
    "            inputs, targets = torch.from_numpy(x), torch.from_numpy(y)\n",
    "            \n",
    "            if(train_on_gpu):\n",
    "                inputs, targets = inputs.cuda(), targets.cuda()\n",
    "\n",
    "            # Creating new variables for the hidden state, otherwise\n",
    "            # we'd backprop through the entire training history\n",
    "            h = tuple([each.data for each in h])\n",
    "\n",
    "            # zero accumulated gradients\n",
    "            net.zero_grad()\n",
    "            \n",
    "            # get the output from the model\n",
    "            output, h = net(inputs, h)\n",
    "            \n",
    "            # calculate the loss and perform backprop\n",
    "            loss = criterion(output, targets.view(batch_size*seq_length, NumBits))\n",
    "            loss.backward()\n",
    "            # `clip_grad_norm` helps prevent the exploding gradient problem in RNNs / LSTMs.\n",
    "            nn.utils.clip_grad_norm_(net.parameters(), clip)\n",
    "            opt.step()\n",
    "            \n",
    "            # loss stats\n",
    "            if counter % print_every == 0:\n",
    "                # Get validation loss\n",
    "                val_h = net.init_hidden(batch_size)\n",
    "                val_losses = []\n",
    "                net.eval()\n",
    "                for x, y in get_batches(val_data, batch_size, seq_length):\n",
    "                    # One-hot encode our data and make them Torch tensors\n",
    "                    x = multi_hot_encoder(x, n_chars)\n",
    "                    y = multi_hot_encoder(y, n_chars)\n",
    "                    x, y = torch.from_numpy(x), torch.from_numpy(y)\n",
    "                    \n",
    "                    # Creating new variables for the hidden state, otherwise\n",
    "                    # we'd backprop through the entire training history\n",
    "                    val_h = tuple([each.data for each in val_h])\n",
    "                    \n",
    "                    inputs, targets = x, y\n",
    "                    if(train_on_gpu):\n",
    "                        inputs, targets = inputs.cuda(), targets.cuda()\n",
    "\n",
    "                    output, val_h = net(inputs, val_h)\n",
    "                    val_loss = criterion(output, targets.view(batch_size*seq_length, NumBits))\n",
    "                \n",
    "                    val_losses.append(val_loss.item())\n",
    "                \n",
    "                net.train() # reset to train mode after iterationg through validation data\n",
    "                \n",
    "                print(\"Epoch: {}/{}...\".format(e+1, epochs),\n",
    "                      \"Step: {}...\".format(counter),\n",
    "                      \"Loss: {:.4f}...\".format(loss.item()),\n",
    "                      \"Val Loss: {:.4f}\".format(np.mean(val_losses)))\n",
    "                "
   ]
  },
  {
   "cell_type": "code",
   "execution_count": 72,
   "metadata": {
    "colab": {
     "base_uri": "https://localhost:8080/",
     "height": 105
    },
    "colab_type": "code",
    "id": "AS5Ik3cvewpa",
    "outputId": "43630bc3-427f-46b9-f160-7ade6330efff"
   },
   "outputs": [
    {
     "name": "stdout",
     "output_type": "stream",
     "text": [
      "CharRNN(\n",
      "  (lstm): LSTM(512, 1024, num_layers=4, batch_first=True, dropout=0.5)\n",
      "  (dropout): Dropout(p=0.5, inplace=False)\n",
      "  (fc): Linear(in_features=1024, out_features=512, bias=True)\n",
      ")\n"
     ]
    }
   ],
   "source": [
    "# define and print the net\n",
    "n_hidden=1024\n",
    "n_layers=4\n",
    "\n",
    "net = CharRNN(chars, n_hidden, n_layers)\n",
    "print(net)"
   ]
  },
  {
   "cell_type": "code",
   "execution_count": null,
   "metadata": {
    "colab": {
     "base_uri": "https://localhost:8080/",
     "height": 1000
    },
    "colab_type": "code",
    "id": "HzJPMVdJewpe",
    "outputId": "135bf543-60fd-4e22-beb4-798a939d0b6a"
   },
   "outputs": [],
   "source": [
    "batch_size = 64\n",
    "seq_length = 160 #max length verses\n",
    "n_epochs = 50 # start smaller if you are just testing initial behavior\n",
    "\n",
    "# train the model\n",
    "train(net, encoded, epochs=n_epochs, batch_size=batch_size, seq_length=seq_length, lr=0.001, print_every=10)"
   ]
  },
  {
   "cell_type": "code",
   "execution_count": 0,
   "metadata": {
    "colab": {},
    "colab_type": "code",
    "id": "mbSGCJO4ewpi"
   },
   "outputs": [],
   "source": [
    "model_dante = 'rnn_20_epoch.net'\n",
    "\n",
    "checkpoint = {'n_hidden': net.n_hidden,\n",
    "              'n_layers': net.n_layers,\n",
    "              'state_dict': net.state_dict(),\n",
    "              'tokens': net.chars}\n",
    "\n",
    "with open(model_dante, 'wb') as f:\n",
    "    torch.save(checkpoint, f)"
   ]
  },
  {
   "cell_type": "code",
   "execution_count": 0,
   "metadata": {
    "colab": {},
    "colab_type": "code",
    "id": "65NVMnmmewpm"
   },
   "outputs": [],
   "source": [
    "def predict(net, char, h=None, top_k=None):\n",
    "        ''' Given a character, predict the next character.\n",
    "            Returns the predicted character and the hidden state.\n",
    "        '''\n",
    "        \n",
    "        # tensor inputs\n",
    "        x = np.array([[net.char2int[char]]])\n",
    "        x = one_hot_encoder(x, len(net.chars))\n",
    "        inputs = torch.from_numpy(x)\n",
    "        \n",
    "        if(train_on_gpu):\n",
    "            inputs = inputs.cuda()\n",
    "        \n",
    "        # detach hidden state from history\n",
    "        h = tuple([each.data for each in h])\n",
    "        # get the output of the model\n",
    "        out, h = net(inputs, h)\n",
    "\n",
    "        # get the character probabilities\n",
    "        # apply softmax to get p probabilities for the likely next character giving x\n",
    "        p = F.softmax(out, dim=1).data\n",
    "        if(train_on_gpu):\n",
    "            p = p.cpu() # move to cpu\n",
    "        \n",
    "        # get top characters\n",
    "        # considering the k most probable characters with topk method\n",
    "        if top_k is None:\n",
    "            top_ch = np.arange(len(net.chars))\n",
    "        else:\n",
    "            p, top_ch = p.topk(top_k)\n",
    "            top_ch = top_ch.numpy().squeeze()\n",
    "        \n",
    "        # select the likely next character with some element of randomness\n",
    "        p = p.numpy().squeeze()\n",
    "        char = np.random.choice(top_ch, p=p/p.sum())\n",
    "        \n",
    "        # return the encoded value of the predicted char and the hidden state\n",
    "        return net.int2char[char], h"
   ]
  },
  {
   "cell_type": "code",
   "execution_count": 0,
   "metadata": {
    "colab": {},
    "colab_type": "code",
    "id": "8cQz9pJnewps"
   },
   "outputs": [],
   "source": [
    "def sample(net, size, prime='Il', top_k=None):\n",
    "        \n",
    "    if(train_on_gpu):\n",
    "        net.cuda()\n",
    "    else:\n",
    "        net.cpu()\n",
    "    \n",
    "    net.eval() # eval mode\n",
    "    \n",
    "    # First off, run through the prime characters\n",
    "    chars = [ch for ch in prime]\n",
    "    h = net.init_hidden(1)\n",
    "    for ch in prime:\n",
    "        char, h = predict(net, ch, h, top_k=top_k)\n",
    "\n",
    "    chars.append(char)\n",
    "    \n",
    "    # Now pass in the previous character and get a new one\n",
    "    for ii in range(size):\n",
    "        char, h = predict(net, chars[-1], h, top_k=top_k)\n",
    "        chars.append(char)\n",
    "\n",
    "    return ''.join(chars)"
   ]
  },
  {
   "cell_type": "code",
   "execution_count": 25,
   "metadata": {
    "colab": {
     "base_uri": "https://localhost:8080/",
     "height": 427
    },
    "colab_type": "code",
    "id": "ko1gyKMIewpv",
    "outputId": "2c1356c1-fde5-4932-f3b3-128f73459aaa"
   },
   "outputs": [
    {
     "name": "stdout",
     "output_type": "stream",
     "text": [
      "This arain so attentable and his answer;\n",
      "and a months, and a sisters to a she coming anything to\n",
      "astonished her to the lating them as he continued. The\n",
      "was way on, and he taken and to\n",
      "talk to at all off one. It was so\n",
      "left their five\n",
      "will then. He was the person as he said. He had natured. She had been mentioned to an income with a seen\n",
      "her sense that we saw to be in a little of the sancy of the carriage\n",
      "on\n",
      "the were as as to her\n",
      "feelings,\n",
      "and to be in the wife. The part of all her affair of the sort\n",
      "with an an interesting in the cordesion time and\n",
      "the compersed of them a matter of him.\n",
      "\n",
      "What who\n",
      "should have been sorry and\n",
      "concern, he spoke herself on any of Mr. Wickham. The coming out which he had no pleasure over this presence at a man of more of his party of the\n",
      "certain of her so walk, which is not the silent well, and all till they self-tall, which is that\n",
      "he had been series in her seen\n",
      "than\n",
      "her carriage after such a conversation in a consequence, and they had nothing in a little attentio\n"
     ]
    }
   ],
   "source": [
    "print(sample(net, 1000, prime='This ', top_k=5))\n"
   ]
  },
  {
   "cell_type": "code",
   "execution_count": 0,
   "metadata": {
    "colab": {},
    "colab_type": "code",
    "id": "sH5K12reewpy",
    "outputId": "98ba7d8e-f290-407b-86eb-490264eb4cbb"
   },
   "outputs": [
    {
     "data": {
      "text/plain": [
       "array([[  7,   8,   9,  10,  11,  12],\n",
       "       [ 67,  68,  69,  70,  71,  72],\n",
       "       [127, 128, 129, 130, 131, 132],\n",
       "       [187, 188, 189, 190, 191, 192],\n",
       "       [247, 248, 249, 250, 251, 252]])"
      ]
     },
     "execution_count": 59,
     "metadata": {
      "tags": []
     },
     "output_type": "execute_result"
    }
   ],
   "source": [
    "y"
   ]
  },
  {
   "cell_type": "code",
   "execution_count": 0,
   "metadata": {
    "colab": {},
    "colab_type": "code",
    "id": "23n3y1TOewp1",
    "outputId": "5dbde076-cb3b-4593-c3a4-c2e52c22f279"
   },
   "outputs": [
    {
     "name": "stdout",
     "output_type": "stream",
     "text": [
      "[[ 54  55  56  57  58  59]\n",
      " [114 115 116 117 118 119]\n",
      " [174 175 176 177 178 179]\n",
      " [234 235 236 237 238 239]\n",
      " [294 295 296 297 298 299]] [[ 55  56  57  58  59   0]\n",
      " [115 116 117 118 119  60]\n",
      " [175 176 177 178 179 120]\n",
      " [235 236 237 238 239 180]\n",
      " [295 296 297 298 299 240]]\n"
     ]
    }
   ],
   "source": [
    "x, y = next(batches)\n",
    "print(x,y)"
   ]
  },
  {
   "cell_type": "code",
   "execution_count": 0,
   "metadata": {
    "colab": {},
    "colab_type": "code",
    "id": "w7MjK0kEewp5"
   },
   "outputs": [],
   "source": []
  }
 ],
 "metadata": {
  "accelerator": "GPU",
  "colab": {
   "include_colab_link": true,
   "name": "Char-LSTM.ipynb",
   "provenance": []
  },
  "kernelspec": {
   "display_name": "Python 3",
   "language": "python",
   "name": "python3"
  },
  "language_info": {
   "codemirror_mode": {
    "name": "ipython",
    "version": 3
   },
   "file_extension": ".py",
   "mimetype": "text/x-python",
   "name": "python",
   "nbconvert_exporter": "python",
   "pygments_lexer": "ipython3",
   "version": "3.7.6"
  }
 },
 "nbformat": 4,
 "nbformat_minor": 1
}
